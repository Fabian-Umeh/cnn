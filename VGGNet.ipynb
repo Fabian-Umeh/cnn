{
  "nbformat": 4,
  "nbformat_minor": 0,
  "metadata": {
    "colab": {
      "provenance": []
    },
    "kernelspec": {
      "name": "python3",
      "display_name": "Python 3"
    },
    "language_info": {
      "name": "python"
    }
  },
  "cells": [
    {
      "cell_type": "code",
      "execution_count": null,
      "metadata": {
        "id": "taWrMkH8WTJt"
      },
      "outputs": [],
      "source": [
        "# Import necessary libraries\n",
        "\n",
        "import numpy as np\n",
        "import matplotlib.pyplot as plt\n",
        "import datetime\n",
        "import os\n",
        "import time\n",
        "\n",
        "import tensorflow as tf\n",
        "from tensorflow.keras import Model\n",
        "from tensorflow.keras import Sequential\n",
        "from tensorflow.keras.layers import Dense, Flatten, Conv2D, MaxPool2D, Dropout\n",
        "from tensorflow.keras.losses import categorical_crossentropy\n",
        "from tensorflow.keras import datasets"
      ]
    },
    {
      "cell_type": "code",
      "source": [
        "# VGGNet\n",
        "\n",
        "class VGGNet(Sequential):\n",
        "  def __init__(self, input_shape, n_class):\n",
        "    super().__init__()\n",
        "    self.add(Conv2D(64, kernel_size = (3, 3), strides = (1, 1),\n",
        "                    input_shape = input_shape, padding = 'same', activation = 'relu'))\n",
        "    self.add(Conv2D(64, kernel_size = (3, 3), strides = (1, 1),\n",
        "                    padding = 'same', activation = 'relu'))\n",
        "    self.add(MaxPool2D(pool_size = (3, 3), strides = (2, 2),\n",
        "                       padding = 'same'))\n",
        "    self.add(Conv2D(128, kernel_size = (3, 3), strides = (1, 1),\n",
        "                    padding = 'same', activation = 'relu'))\n",
        "    self.add(Conv2D(128, kernel_size = (3, 3), strides = (1, 1),\n",
        "                    padding = 'same', activation = 'relu'))\n",
        "    self.add(MaxPool2D(pool_size = (3, 3), strides = (2, 2),\n",
        "                       padding = 'same'))\n",
        "    self.add(Conv2D(256, kernel_size = (3, 3), strides = (1, 1),\n",
        "                    padding = 'same', activation = 'relu'))\n",
        "    self.add(Conv2D(256, kernel_size = (3, 3), strides = (1, 1),\n",
        "                    padding = 'same', activation = 'relu'))\n",
        "    self.add(MaxPool2D(pool_size = (3, 3), strides = (2, 2),\n",
        "                       padding = 'same'))\n",
        "    self.add(Conv2D(512, kernel_size = (3, 3), strides = (1, 1),\n",
        "                    padding = 'same', activation = 'relu'))\n",
        "    self.add(Conv2D(512, kernel_size = (3, 3), strides = (1, 1),\n",
        "                    padding = 'same', activation = 'relu'))\n",
        "    self.add(Conv2D(512, kernel_size = (3, 3), strides = (1, 1),\n",
        "                    padding = 'same', activation = 'relu'))\n",
        "    self.add(MaxPool2D(pool_size = (3, 3), strides = (2, 2),\n",
        "                       padding = 'same'))\n",
        "    self.add(Conv2D(512, kernel_size = (3, 3), strides = (1, 1),\n",
        "                    padding = 'same', activation = 'relu'))\n",
        "    self.add(Conv2D(512, kernel_size = (3, 3), strides = (1, 1),\n",
        "                    padding = 'same', activation = 'relu'))\n",
        "    self.add(Conv2D(512, kernel_size = (3, 3), strides = (1, 1),\n",
        "                    padding = 'same', activation = 'relu'))\n",
        "    self.add(MaxPool2D(pool_size = (3, 3), strides = (2, 2),\n",
        "                       padding = 'same'))\n",
        "\n",
        "    self.add(Flatten())\n",
        "    self.add(Dense(25088, activation = 'relu'))\n",
        "    self.add(Dense(4096, activation = 'relu'))\n",
        "    self.add(Dense(4096, activation = 'relu'))\n",
        "    self.add(Dense(1000, activation = 'softmax'))\n",
        "\n",
        "    self.compile(optimizer = 'adam',\n",
        "                 loss = categorical_crossentropy,\n",
        "                 metrics = ['accuracy'])"
      ],
      "metadata": {
        "id": "zpY5FTQKWV3k"
      },
      "execution_count": null,
      "outputs": []
    },
    {
      "cell_type": "code",
      "source": [
        "model = VGGNet((224, 224, 3), 1000)\n",
        "model.summary()"
      ],
      "metadata": {
        "colab": {
          "base_uri": "https://localhost:8080/"
        },
        "id": "sork882Aa3Mb",
        "outputId": "7c0bcc74-2563-4108-f641-0cd219639b92"
      },
      "execution_count": null,
      "outputs": [
        {
          "output_type": "stream",
          "name": "stdout",
          "text": [
            "Model: \"vgg_net_4\"\n",
            "_________________________________________________________________\n",
            " Layer (type)                Output Shape              Param #   \n",
            "=================================================================\n",
            " conv2d_48 (Conv2D)          (None, 224, 224, 64)      1792      \n",
            "                                                                 \n",
            " conv2d_49 (Conv2D)          (None, 224, 224, 64)      36928     \n",
            "                                                                 \n",
            " max_pooling2d_20 (MaxPoolin  (None, 112, 112, 64)     0         \n",
            " g2D)                                                            \n",
            "                                                                 \n",
            " conv2d_50 (Conv2D)          (None, 112, 112, 128)     73856     \n",
            "                                                                 \n",
            " conv2d_51 (Conv2D)          (None, 112, 112, 128)     147584    \n",
            "                                                                 \n",
            " max_pooling2d_21 (MaxPoolin  (None, 56, 56, 128)      0         \n",
            " g2D)                                                            \n",
            "                                                                 \n",
            " conv2d_52 (Conv2D)          (None, 56, 56, 256)       295168    \n",
            "                                                                 \n",
            " conv2d_53 (Conv2D)          (None, 56, 56, 256)       590080    \n",
            "                                                                 \n",
            " max_pooling2d_22 (MaxPoolin  (None, 28, 28, 256)      0         \n",
            " g2D)                                                            \n",
            "                                                                 \n",
            " conv2d_54 (Conv2D)          (None, 28, 28, 512)       1180160   \n",
            "                                                                 \n",
            " conv2d_55 (Conv2D)          (None, 28, 28, 512)       2359808   \n",
            "                                                                 \n",
            " conv2d_56 (Conv2D)          (None, 28, 28, 512)       2359808   \n",
            "                                                                 \n",
            " max_pooling2d_23 (MaxPoolin  (None, 14, 14, 512)      0         \n",
            " g2D)                                                            \n",
            "                                                                 \n",
            " conv2d_57 (Conv2D)          (None, 14, 14, 512)       2359808   \n",
            "                                                                 \n",
            " conv2d_58 (Conv2D)          (None, 14, 14, 512)       2359808   \n",
            "                                                                 \n",
            " conv2d_59 (Conv2D)          (None, 14, 14, 512)       2359808   \n",
            "                                                                 \n",
            " max_pooling2d_24 (MaxPoolin  (None, 7, 7, 512)        0         \n",
            " g2D)                                                            \n",
            "                                                                 \n",
            " flatten_3 (Flatten)         (None, 25088)             0         \n",
            "                                                                 \n",
            " dense_12 (Dense)            (None, 25088)             629432832 \n",
            "                                                                 \n",
            " dense_13 (Dense)            (None, 4096)              102764544 \n",
            "                                                                 \n",
            " dense_14 (Dense)            (None, 4096)              16781312  \n",
            "                                                                 \n",
            " dense_15 (Dense)            (None, 1000)              4097000   \n",
            "                                                                 \n",
            "=================================================================\n",
            "Total params: 767,200,296\n",
            "Trainable params: 767,200,296\n",
            "Non-trainable params: 0\n",
            "_________________________________________________________________\n"
          ]
        }
      ]
    }
  ]
}