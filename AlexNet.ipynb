{
  "nbformat": 4,
  "nbformat_minor": 0,
  "metadata": {
    "colab": {
      "provenance": []
    },
    "kernelspec": {
      "name": "python3",
      "display_name": "Python 3"
    },
    "language_info": {
      "name": "python"
    }
  },
  "cells": [
    {
      "cell_type": "code",
      "source": [
        "# Import necessary libraries\n",
        "\n",
        "import numpy as np\n",
        "import matplotlib.pyplot as plt\n",
        "import datetime\n",
        "import os\n",
        "import time\n",
        "\n",
        "import tensorflow as tf\n",
        "from tensorflow.keras import Model\n",
        "from tensorflow.keras import Sequential\n",
        "from tensorflow.keras.layers import Dense, Flatten, Conv2D, MaxPool2D, Dropout\n",
        "from tensorflow.keras.losses import categorical_crossentropy\n",
        "from tensorflow.keras import datasets"
      ],
      "metadata": {
        "id": "mmSfNxqg6683"
      },
      "execution_count": null,
      "outputs": []
    },
    {
      "cell_type": "code",
      "execution_count": null,
      "metadata": {
        "id": "VImRvcR96cog"
      },
      "outputs": [],
      "source": [
        "# AlexNet\n",
        "\n",
        "class AlexNet(Sequential):\n",
        "  def __init__(self, input_shape, n_class):\n",
        "    super().__init__()\n",
        "    self.add(Conv2D(96, kernel_size = (11, 11), strides = (4, 4), input_shape=input_shape,\n",
        "             padding ='valid', activation = 'relu'))\n",
        "    self.add(MaxPool2D(pool_size = (3, 3), strides = (2, 2), padding ='valid'))\n",
        "    self.add(Conv2D(256, kernel_size = (5, 5), padding = 'same',\n",
        "                    activation = 'relu'))\n",
        "    self.add(MaxPool2D(pool_size = (3, 3), strides = (2, 2), padding = 'valid'))\n",
        "\n",
        "    self.add(Conv2D(384, kernel_size = (3, 3), padding = 'same',\n",
        "                    activation = 'relu'))\n",
        "    self.add(Conv2D(384, kernel_size = (3, 3), padding = 'same',\n",
        "                    activation = 'relu'))\n",
        "    self.add(Conv2D(256, kernel_size = (3, 3), padding = 'same',\n",
        "                    activation = 'relu'))\n",
        "    self.add(MaxPool2D(pool_size = (3, 3), strides = (2, 2)))\n",
        "    self.add(Dropout(0.5))\n",
        "    self.add(Flatten())\n",
        "    self.add(Dense(4096, activation = 'relu'))\n",
        "    self.add(Dense(4096, activation = 'relu'))\n",
        "    self.add(Dense(n_class, activation = 'softmax'))\n",
        "\n",
        "\n",
        "    self.compile(optimizer = 'adam',\n",
        "                 loss = categorical_crossentropy,\n",
        "                 metrics = ['accuracy'])\n",
        "\n",
        ""
      ]
    },
    {
      "cell_type": "code",
      "source": [
        "model = AlexNet((227, 227, 3), 1000)\n",
        "model.summary()"
      ],
      "metadata": {
        "colab": {
          "base_uri": "https://localhost:8080/"
        },
        "id": "w-jM-qOuAoDG",
        "outputId": "6f77b330-17a7-420a-d38e-d4b8f8f3b3d8"
      },
      "execution_count": null,
      "outputs": [
        {
          "output_type": "stream",
          "name": "stdout",
          "text": [
            "Model: \"alex_net\"\n",
            "_________________________________________________________________\n",
            " Layer (type)                Output Shape              Param #   \n",
            "=================================================================\n",
            " conv2d (Conv2D)             (None, 55, 55, 96)        34944     \n",
            "                                                                 \n",
            " max_pooling2d (MaxPooling2D  (None, 27, 27, 96)       0         \n",
            " )                                                               \n",
            "                                                                 \n",
            " conv2d_1 (Conv2D)           (None, 27, 27, 256)       614656    \n",
            "                                                                 \n",
            " max_pooling2d_1 (MaxPooling  (None, 13, 13, 256)      0         \n",
            " 2D)                                                             \n",
            "                                                                 \n",
            " conv2d_2 (Conv2D)           (None, 13, 13, 384)       885120    \n",
            "                                                                 \n",
            " conv2d_3 (Conv2D)           (None, 13, 13, 384)       1327488   \n",
            "                                                                 \n",
            " conv2d_4 (Conv2D)           (None, 13, 13, 256)       884992    \n",
            "                                                                 \n",
            " max_pooling2d_2 (MaxPooling  (None, 6, 6, 256)        0         \n",
            " 2D)                                                             \n",
            "                                                                 \n",
            " dropout (Dropout)           (None, 6, 6, 256)         0         \n",
            "                                                                 \n",
            " flatten (Flatten)           (None, 9216)              0         \n",
            "                                                                 \n",
            " dense (Dense)               (None, 4096)              37752832  \n",
            "                                                                 \n",
            " dense_1 (Dense)             (None, 4096)              16781312  \n",
            "                                                                 \n",
            " dense_2 (Dense)             (None, 1000)              4097000   \n",
            "                                                                 \n",
            "=================================================================\n",
            "Total params: 62,378,344\n",
            "Trainable params: 62,378,344\n",
            "Non-trainable params: 0\n",
            "_________________________________________________________________\n"
          ]
        }
      ]
    }
  ]
}