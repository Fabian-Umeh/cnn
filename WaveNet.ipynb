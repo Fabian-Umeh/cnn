{
  "nbformat": 4,
  "nbformat_minor": 0,
  "metadata": {
    "colab": {
      "provenance": []
    },
    "kernelspec": {
      "name": "python3",
      "display_name": "Python 3"
    },
    "language_info": {
      "name": "python"
    }
  },
  "cells": [
    {
      "cell_type": "code",
      "execution_count": 2,
      "metadata": {
        "colab": {
          "base_uri": "https://localhost:8080/"
        },
        "id": "AhWh-dVPushT",
        "outputId": "055bfff8-bc5a-4a59-cad7-18d180ad4f88"
      },
      "outputs": [
        {
          "output_type": "stream",
          "name": "stdout",
          "text": [
            "Model: \"model\"\n",
            "__________________________________________________________________________________________________\n",
            " Layer (type)                   Output Shape         Param #     Connected to                     \n",
            "==================================================================================================\n",
            " input_1 (InputLayer)           [(None, 12, 1)]      0           []                               \n",
            "                                                                                                  \n",
            " wavenetblock (wavenetblock)    ((None, 12, 128),    66560       ['input_1[0][0]']                \n",
            "                                 (None, 12, 128))                                                 \n",
            "                                                                                                  \n",
            " add_1 (Add)                    (None, 12, 128)      0           ['wavenetblock[0][0]']           \n",
            "                                                                                                  \n",
            " wavenetblock_1 (wavenetblock)  ((None, 12, 128),    131584      ['add_1[0][0]']                  \n",
            "                                 (None, 12, 128))                                                 \n",
            "                                                                                                  \n",
            " add_3 (Add)                    (None, 12, 128)      0           ['wavenetblock_1[0][0]']         \n",
            "                                                                                                  \n",
            " wavenetblock_2 (wavenetblock)  ((None, 12, 128),    131584      ['add_3[0][0]']                  \n",
            "                                 (None, 12, 128))                                                 \n",
            "                                                                                                  \n",
            " add_5 (Add)                    (None, 12, 128)      0           ['wavenetblock_2[0][0]']         \n",
            "                                                                                                  \n",
            " wavenetblock_3 (wavenetblock)  ((None, 12, 128),    131584      ['add_5[0][0]']                  \n",
            "                                 (None, 12, 128))                                                 \n",
            "                                                                                                  \n",
            " add_7 (Add)                    (None, 12, 128)      0           ['wavenetblock_3[0][0]']         \n",
            "                                                                                                  \n",
            " wavenetblock_4 (wavenetblock)  ((None, 12, 128),    131584      ['add_7[0][0]']                  \n",
            "                                 (None, 12, 128))                                                 \n",
            "                                                                                                  \n",
            " add_9 (Add)                    (None, 12, 128)      0           ['wavenetblock_4[0][0]']         \n",
            "                                                                                                  \n",
            " wavenetblock_5 (wavenetblock)  ((None, 12, 128),    131584      ['add_9[0][0]']                  \n",
            "                                 (None, 12, 128))                                                 \n",
            "                                                                                                  \n",
            " add_12 (Add)                   (None, 12, 128)      0           ['wavenetblock[0][1]',           \n",
            "                                                                  'wavenetblock_1[0][1]',         \n",
            "                                                                  'wavenetblock_2[0][1]',         \n",
            "                                                                  'wavenetblock_3[0][1]',         \n",
            "                                                                  'wavenetblock_4[0][1]',         \n",
            "                                                                  'wavenetblock_5[0][1]']         \n",
            "                                                                                                  \n",
            " activation_12 (Activation)     (None, 12, 128)      0           ['add_12[0][0]']                 \n",
            "                                                                                                  \n",
            " conv1d_24 (Conv1D)             (None, 12, 128)      16512       ['activation_12[0][0]']          \n",
            "                                                                                                  \n",
            " activation_13 (Activation)     (None, 12, 128)      0           ['conv1d_24[0][0]']              \n",
            "                                                                                                  \n",
            " conv1d_25 (Conv1D)             (None, 12, 128)      16512       ['activation_13[0][0]']          \n",
            "                                                                                                  \n",
            " conv1d_26 (Conv1D)             (None, 12, 6)        774         ['conv1d_25[0][0]']              \n",
            "                                                                                                  \n",
            "==================================================================================================\n",
            "Total params: 758,278\n",
            "Trainable params: 758,278\n",
            "Non-trainable params: 0\n",
            "__________________________________________________________________________________________________\n"
          ]
        }
      ],
      "source": [
        "import tensorflow as tf\n",
        "from tensorflow import keras\n",
        "\n",
        "class wavenetblock(tf.keras.layers.Layer):\n",
        "  def __init__(self, filters, filter_size, dilation):\n",
        "    super(wavenetblock, self).__init__()\n",
        "    self.conv_s = tf.keras.layers.Conv1D(filters, filter_size, padding='same', dilation_rate=dilation)\n",
        "    self.conv_t = tf.keras.layers.Conv1D(filters, filter_size, padding='same', dilation_rate=dilation)\n",
        "    self.tanh = tf.keras.layers.Activation('tanh')\n",
        "    self.sigmoid = tf.keras.layers.Activation('sigmoid')\n",
        "    self.multiply = tf.keras.layers.Multiply()\n",
        "    self.conv1 = tf.keras.layers.Conv1D(filters, filter_size, padding='same')\n",
        "    self.conv2 = tf.keras.layers.Conv1D(filters, filter_size, padding='same')\n",
        "    self.add = tf.keras.layers.Add()\n",
        "\n",
        "  def call(self, inputs):\n",
        "    xs = self.conv_s(inputs)\n",
        "    xt = self.conv_t(inputs)\n",
        "    x_tanh = self.tanh(xt)\n",
        "    x_sigmoid = self.sigmoid(xs)\n",
        "    x_multiply = self.multiply([x_tanh, x_sigmoid])\n",
        "    skip = self.conv1(x_multiply)\n",
        "    res = self.conv2(x_multiply)\n",
        "    out = self.add([res, inputs])\n",
        "\n",
        "    return out, skip\n",
        "\n",
        "def build_wavenet(input_shape, filters, filter_size, dilations, n_steps_out):\n",
        "  inputs = tf.keras.layers.Input(shape=input_shape)\n",
        "  res = inputs\n",
        "  skip_connections = []\n",
        "  for dilation in dilations:\n",
        "    x, skip = wavenetblock(filters, filter_size, dilation)(res)\n",
        "    skip_connections.append(skip)\n",
        "    res = tf.keras.layers.Add()([x])\n",
        "  x = tf.keras.layers.Add()(skip_connections)\n",
        "  x = tf.keras.layers.Activation('relu')(x)\n",
        "  x = tf.keras.layers.Conv1D(filters, 1, padding='same')(x)\n",
        "  x = tf.keras.layers.Activation('relu')(x)\n",
        "  x = tf.keras.layers.Conv1D(filters, 1, padding='same')(x)\n",
        "  outputs = tf.keras.layers.Conv1D(6, 1, padding='same')(x)\n",
        "  model = tf.keras.models.Model(inputs=inputs, outputs=outputs)\n",
        "\n",
        "  return model\n",
        "\n",
        "\n",
        "input_shape = (12, 1)\n",
        "filters = 128\n",
        "n_steps_out = 6\n",
        "filter_size = 2\n",
        "dilations = [1, 2, 4, 8, 16, 32]\n",
        "\n",
        "wavenet_model = build_wavenet(input_shape, filters, filter_size, dilations, n_steps_out)\n",
        "wavenet_model.summary()"
      ]
    },
    {
      "cell_type": "code",
      "source": [],
      "metadata": {
        "id": "2lMzeAxHuz6K"
      },
      "execution_count": null,
      "outputs": []
    }
  ]
}